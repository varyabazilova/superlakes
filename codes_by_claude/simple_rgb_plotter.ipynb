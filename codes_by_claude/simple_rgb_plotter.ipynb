{
 "cells": [
  {
   "cell_type": "markdown",
   "metadata": {},
   "source": [
    "# Simple RGB Image Plotter\n",
    "\n",
    "Load any 3 images, choose bands, and plot as RGB composite."
   ]
  },
  {
   "cell_type": "code",
   "execution_count": 1,
   "metadata": {},
   "outputs": [],
   "source": [
    "import numpy as np\n",
    "import rasterio\n",
    "import matplotlib.pyplot as plt\n",
    "import ipywidgets as widgets\n",
    "from IPython.display import display\n",
    "\n",
    "# Set up matplotlib\n",
    "plt.rcParams['figure.dpi'] = 100\n",
    "plt.rcParams['savefig.dpi'] = 300"
   ]
  },
  {
   "cell_type": "markdown",
   "metadata": {},
   "source": [
    "## 1. Define Image Paths"
   ]
  },
  {
   "cell_type": "code",
   "execution_count": 2,
   "metadata": {},
   "outputs": [
    {
     "name": "stdout",
     "output_type": "stream",
     "text": [
      "Image 1 (Red): testimages25/2025-01-08_composite_mosaic.tif\n",
      "Image 2 (Green): testimages25/2025-05-25_composite_mosaic.tif\n",
      "Image 3 (Blue): testimages25/2025-08-21_composite_mosaic.tif\n"
     ]
    }
   ],
   "source": [
    "# Set your image paths here\n",
    "image1_path = \"testimages25/2025-01-08_composite_mosaic.tif\"  # Red channel\n",
    "image2_path = \"testimages25/2025-05-25_composite_mosaic.tif\"  # Green channel  \n",
    "image3_path = \"testimages25/2025-08-21_composite_mosaic.tif\"  # Blue channel\n",
    "\n",
    "# Or use NDWI images\n",
    "# image1_path = \"outputs_cleaned/2025-01-08_composite_mosaic_ndwi.tif\"\n",
    "# image2_path = \"outputs_cleaned/2025-05-25_composite_mosaic_ndwi.tif\"\n",
    "# image3_path = \"outputs_cleaned/2025-08-21_composite_mosaic_ndwi.tif\"\n",
    "\n",
    "print(f\"Image 1 (Red): {image1_path}\")\n",
    "print(f\"Image 2 (Green): {image2_path}\")\n",
    "print(f\"Image 3 (Blue): {image3_path}\")"
   ]
  },
  {
   "cell_type": "markdown",
   "metadata": {},
   "source": [
    "## 2. Load Images and Inspect Bands"
   ]
  },
  {
   "cell_type": "code",
   "execution_count": 3,
   "metadata": {},
   "outputs": [
    {
     "name": "stdout",
     "output_type": "stream",
     "text": [
      "\n",
      "Loaded: testimages25/2025-01-08_composite_mosaic.tif\n",
      "  Shape: (4, 5200, 4638) (bands, height, width)\n",
      "  Bands: 4\n",
      "  Data type: uint16\n",
      "  Value range: 0.000 - 16491.000\n",
      "\n",
      "Loaded: testimages25/2025-05-25_composite_mosaic.tif\n",
      "  Shape: (4, 5200, 4638) (bands, height, width)\n",
      "  Bands: 4\n",
      "  Data type: uint16\n",
      "  Value range: 0.000 - 14716.000\n",
      "\n",
      "Loaded: testimages25/2025-08-21_composite_mosaic.tif\n",
      "  Shape: (4, 5200, 4638) (bands, height, width)\n",
      "  Bands: 4\n",
      "  Data type: uint16\n",
      "  Value range: 0.000 - 14757.000\n"
     ]
    }
   ],
   "source": [
    "def load_image(path):\n",
    "    \"\"\"Load image and return array + info\"\"\"\n",
    "    with rasterio.open(path) as src:\n",
    "        image = src.read()\n",
    "        profile = src.profile\n",
    "        \n",
    "    print(f\"\\nLoaded: {path}\")\n",
    "    print(f\"  Shape: {image.shape} (bands, height, width)\")\n",
    "    print(f\"  Bands: {profile['count']}\")\n",
    "    print(f\"  Data type: {profile['dtype']}\")\n",
    "    print(f\"  Value range: {image.min():.3f} - {image.max():.3f}\")\n",
    "    \n",
    "    return image, profile\n",
    "\n",
    "# Load all images\n",
    "img1, prof1 = load_image(image1_path)\n",
    "img2, prof2 = load_image(image2_path) \n",
    "img3, prof3 = load_image(image3_path)"
   ]
  },
  {
   "cell_type": "markdown",
   "metadata": {},
   "source": [
    "## 3. Band Selection Widgets"
   ]
  },
  {
   "cell_type": "code",
   "execution_count": 11,
   "metadata": {},
   "outputs": [
    {
     "name": "stdout",
     "output_type": "stream",
     "text": [
      "Select which band to use from each image:\n"
     ]
    },
    {
     "data": {
      "application/vnd.jupyter.widget-view+json": {
       "model_id": "ef8ab61af03745908921217828367e1e",
       "version_major": 2,
       "version_minor": 0
      },
      "text/plain": [
       "VBox(children=(Dropdown(description='Red (Img1):', options=(('Band 1', 0), ('Band 2', 1), ('Band 3', 2), ('Ban…"
      ]
     },
     "metadata": {},
     "output_type": "display_data"
    }
   ],
   "source": [
    "# Create band selection widgets\n",
    "max_bands = max(prof1['count'], prof2['count'], prof3['count'])\n",
    "band_options = [(f\"Band {i+1}\", i) for i in range(max_bands)]\n",
    "\n",
    "print(\"Select which band to use from each image:\")\n",
    "\n",
    "band1_widget = widgets.Dropdown(\n",
    "    options=band_options[:prof1['count']],\n",
    "    value=0,\n",
    "    description='Red (Img1):'\n",
    ")\n",
    "\n",
    "band2_widget = widgets.Dropdown(\n",
    "    options=band_options[:prof2['count']], \n",
    "    value=0,\n",
    "    description='Green (Img2):'\n",
    ")\n",
    "\n",
    "band3_widget = widgets.Dropdown(\n",
    "    options=band_options[:prof3['count']],\n",
    "    value=0, \n",
    "    description='Blue (Img3):'\n",
    ")\n",
    "\n",
    "display(widgets.VBox([band1_widget, band2_widget, band3_widget]))"
   ]
  },
  {
   "cell_type": "markdown",
   "metadata": {},
   "source": [
    "## 4. Normalization Options"
   ]
  },
  {
   "cell_type": "code",
   "execution_count": 12,
   "metadata": {},
   "outputs": [
    {
     "name": "stdout",
     "output_type": "stream",
     "text": [
      "Normalization options:\n"
     ]
    },
    {
     "data": {
      "application/vnd.jupyter.widget-view+json": {
       "model_id": "89f929817485493588342ae9eb396aee",
       "version_major": 2,
       "version_minor": 0
      },
      "text/plain": [
       "Dropdown(description='Method:', index=1, options=(('Min-Max (0-1)', 'minmax'), ('Percentile (2-98%)', 'percent…"
      ]
     },
     "metadata": {},
     "output_type": "display_data"
    }
   ],
   "source": [
    "# Normalization widgets\n",
    "print(\"Normalization options:\")\n",
    "\n",
    "norm_method = widgets.Dropdown(\n",
    "    options=[\n",
    "        ('Min-Max (0-1)', 'minmax'),\n",
    "        ('Percentile (2-98%)', 'percentile'),\n",
    "        ('Standard deviation (±2σ)', 'std'),\n",
    "        ('No normalization', 'none')\n",
    "    ],\n",
    "    value='percentile',\n",
    "    description='Method:'\n",
    ")\n",
    "\n",
    "display(norm_method)"
   ]
  },
  {
   "cell_type": "markdown",
   "metadata": {},
   "source": [
    "## 5. RGB Plotting Function"
   ]
  },
  {
   "cell_type": "code",
   "execution_count": 13,
   "metadata": {},
   "outputs": [],
   "source": [
    "def normalize_band(band, method='percentile'):\n",
    "    \"\"\"Normalize a band for display\"\"\"\n",
    "    band = band.astype(np.float32)\n",
    "    \n",
    "    if method == 'minmax':\n",
    "        return (band - band.min()) / (band.max() - band.min())\n",
    "    \n",
    "    elif method == 'percentile':\n",
    "        p2, p98 = np.percentile(band, [2, 98])\n",
    "        return np.clip((band - p2) / (p98 - p2), 0, 1)\n",
    "    \n",
    "    elif method == 'std':\n",
    "        mean, std = band.mean(), band.std()\n",
    "        return np.clip((band - mean + 2*std) / (4*std), 0, 1)\n",
    "    \n",
    "    else:  # no normalization\n",
    "        return band\n",
    "\n",
    "def plot_rgb_composite():\n",
    "    \"\"\"Create and plot RGB composite\"\"\"\n",
    "    # Get selected bands\n",
    "    red_band = img1[band1_widget.value]\n",
    "    green_band = img2[band2_widget.value] \n",
    "    blue_band = img3[band3_widget.value]\n",
    "    \n",
    "    # Normalize bands\n",
    "    method = norm_method.value\n",
    "    red_norm = normalize_band(red_band, method)\n",
    "    green_norm = normalize_band(green_band, method)\n",
    "    blue_norm = normalize_band(blue_band, method)\n",
    "    \n",
    "    # Stack into RGB\n",
    "    rgb = np.stack([red_norm, green_norm, blue_norm], axis=2)\n",
    "    \n",
    "    # Plot\n",
    "    fig, axes = plt.subplots(1, 4, figsize=(20, 5))\n",
    "    \n",
    "    # Individual bands\n",
    "    axes[0].imshow(red_norm, cmap='Reds')\n",
    "    axes[0].set_title(f'Red: {image1_path.split(\"/\")[-1]}\\nBand {band1_widget.value + 1}')\n",
    "    axes[0].axis('off')\n",
    "    \n",
    "    axes[1].imshow(green_norm, cmap='Greens')\n",
    "    axes[1].set_title(f'Green: {image2_path.split(\"/\")[-1]}\\nBand {band2_widget.value + 1}')\n",
    "    axes[1].axis('off')\n",
    "    \n",
    "    axes[2].imshow(blue_norm, cmap='Blues')\n",
    "    axes[2].set_title(f'Blue: {image3_path.split(\"/\")[-1]}\\nBand {band3_widget.value + 1}')\n",
    "    axes[2].axis('off')\n",
    "    \n",
    "    # RGB composite\n",
    "    axes[3].imshow(rgb)\n",
    "    axes[3].set_title(f'RGB Composite\\nNormalization: {method}')\n",
    "    axes[3].axis('off')\n",
    "    \n",
    "    plt.tight_layout()\n",
    "    plt.show()\n",
    "    \n",
    "    print(f\"\\n📊 Composite Info:\")\n",
    "    print(f\"   Red channel: {image1_path.split('/')[-1]} (Band {band1_widget.value + 1})\")\n",
    "    print(f\"   Green channel: {image2_path.split('/')[-1]} (Band {band2_widget.value + 1})\")\n",
    "    print(f\"   Blue channel: {image3_path.split('/')[-1]} (Band {band3_widget.value + 1})\")\n",
    "    print(f\"   Normalization: {method}\")\n",
    "    print(f\"   Output shape: {rgb.shape}\")"
   ]
  },
  {
   "cell_type": "markdown",
   "metadata": {},
   "source": [
    "## 6. Interactive Plot Button"
   ]
  },
  {
   "cell_type": "code",
   "execution_count": 14,
   "metadata": {},
   "outputs": [
    {
     "data": {
      "application/vnd.jupyter.widget-view+json": {
       "model_id": "18b964b777ad44daa2911d29a3932288",
       "version_major": 2,
       "version_minor": 0
      },
      "text/plain": [
       "Button(button_style='success', description='Create RGB Plot', icon='check', style=ButtonStyle())"
      ]
     },
     "metadata": {},
     "output_type": "display_data"
    }
   ],
   "source": [
    "# Create plot button\n",
    "plot_button = widgets.Button(\n",
    "    description='Create RGB Plot',\n",
    "    button_style='success',\n",
    "    icon='check'\n",
    ")\n",
    "\n",
    "def on_plot_click(b):\n",
    "    plot_rgb_composite()\n",
    "\n",
    "plot_button.on_click(on_plot_click)\n",
    "\n",
    "display(plot_button)"
   ]
  },
  {
   "cell_type": "markdown",
   "metadata": {},
   "source": [
    "## 7. Quick Presets"
   ]
  },
  {
   "cell_type": "code",
   "execution_count": 9,
   "metadata": {},
   "outputs": [
    {
     "name": "stdout",
     "output_type": "stream",
     "text": [
      "Quick presets:\n"
     ]
    },
    {
     "data": {
      "application/vnd.jupyter.widget-view+json": {
       "model_id": "99dbb1fd29814ad480b6a36bdabf4060",
       "version_major": 2,
       "version_minor": 0
      },
      "text/plain": [
       "HBox(children=(Button(button_style='info', description='True Color (R-G-B)', style=ButtonStyle()), Button(butt…"
      ]
     },
     "metadata": {},
     "output_type": "display_data"
    }
   ],
   "source": [
    "def set_preset(preset_name):\n",
    "    \"\"\"Set common band combinations\"\"\"\n",
    "    if preset_name == 'true_color':\n",
    "        # Assuming Planet bands: R=0, G=1, B=2, NIR=3\n",
    "        band1_widget.value = 0  # Red\n",
    "        band2_widget.value = 1  # Green  \n",
    "        band3_widget.value = 2  # Blue\n",
    "        print(\"Set to True Color: R-G-B\")\n",
    "        \n",
    "    elif preset_name == 'false_color':\n",
    "        band1_widget.value = 3  # NIR -> Red\n",
    "        band2_widget.value = 0  # Red -> Green\n",
    "        band3_widget.value = 1  # Green -> Blue  \n",
    "        print(\"Set to False Color: NIR-R-G\")\n",
    "        \n",
    "    elif preset_name == 'ndwi_only':\n",
    "        # If using NDWI images (single band)\n",
    "        band1_widget.value = 0\n",
    "        band2_widget.value = 0\n",
    "        band3_widget.value = 0\n",
    "        print(\"Set to NDWI grayscale\")\n",
    "\n",
    "# Preset buttons\n",
    "preset_buttons = [\n",
    "    widgets.Button(description='True Color (R-G-B)', button_style='info'),\n",
    "    widgets.Button(description='False Color (NIR-R-G)', button_style='info'),\n",
    "    widgets.Button(description='NDWI Grayscale', button_style='info')\n",
    "]\n",
    "\n",
    "preset_buttons[0].on_click(lambda b: set_preset('true_color'))\n",
    "preset_buttons[1].on_click(lambda b: set_preset('false_color'))\n",
    "preset_buttons[2].on_click(lambda b: set_preset('ndwi_only'))\n",
    "\n",
    "print(\"Quick presets:\")\n",
    "display(widgets.HBox(preset_buttons))"
   ]
  },
  {
   "cell_type": "markdown",
   "metadata": {},
   "source": [
    "## 8. Save RGB Composite"
   ]
  },
  {
   "cell_type": "code",
   "execution_count": 10,
   "metadata": {},
   "outputs": [
    {
     "data": {
      "application/vnd.jupyter.widget-view+json": {
       "model_id": "92413ed134e14c8eb4d4575f3d2a28e0",
       "version_major": 2,
       "version_minor": 0
      },
      "text/plain": [
       "Button(button_style='warning', description='Save RGB', style=ButtonStyle())"
      ]
     },
     "metadata": {},
     "output_type": "display_data"
    }
   ],
   "source": [
    "def save_rgb_composite(filename=\"rgb_composite.png\", dpi=300):\n",
    "    \"\"\"Save the current RGB composite\"\"\"\n",
    "    # Get selected bands and create composite\n",
    "    red_band = img1[band1_widget.value]\n",
    "    green_band = img2[band2_widget.value] \n",
    "    blue_band = img3[band3_widget.value]\n",
    "    \n",
    "    method = norm_method.value\n",
    "    red_norm = normalize_band(red_band, method)\n",
    "    green_norm = normalize_band(green_band, method)\n",
    "    blue_norm = normalize_band(blue_band, method)\n",
    "    \n",
    "    rgb = np.stack([red_norm, green_norm, blue_norm], axis=2)\n",
    "    \n",
    "    # Save\n",
    "    plt.figure(figsize=(12, 8))\n",
    "    plt.imshow(rgb)\n",
    "    plt.axis('off')\n",
    "    plt.title(f'RGB Composite: R={band1_widget.value+1}, G={band2_widget.value+1}, B={band3_widget.value+1}')\n",
    "    plt.savefig(filename, dpi=dpi, bbox_inches='tight', pad_inches=0)\n",
    "    plt.close()\n",
    "    \n",
    "    print(f\"✅ Saved RGB composite to: {filename}\")\n",
    "\n",
    "# Save button\n",
    "save_button = widgets.Button(description='Save RGB', button_style='warning')\n",
    "save_button.on_click(lambda b: save_rgb_composite())\n",
    "\n",
    "display(save_button)"
   ]
  },
  {
   "cell_type": "code",
   "execution_count": null,
   "metadata": {},
   "outputs": [],
   "source": []
  }
 ],
 "metadata": {
  "kernelspec": {
   "display_name": "Python 3 (ipykernel)",
   "language": "python",
   "name": "python3"
  },
  "language_info": {
   "codemirror_mode": {
    "name": "ipython",
    "version": 3
   },
   "file_extension": ".py",
   "mimetype": "text/x-python",
   "name": "python",
   "nbconvert_exporter": "python",
   "pygments_lexer": "ipython3",
   "version": "3.7.11"
  }
 },
 "nbformat": 4,
 "nbformat_minor": 4
}
